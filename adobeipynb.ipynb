{
  "nbformat": 4,
  "nbformat_minor": 0,
  "metadata": {
    "colab": {
      "provenance": []
    },
    "kernelspec": {
      "name": "python3",
      "display_name": "Python 3"
    },
    "language_info": {
      "name": "python"
    }
  },
  "cells": [
    {
      "cell_type": "code",
      "execution_count": 1,
      "metadata": {
        "colab": {
          "base_uri": "https://localhost:8080/"
        },
        "id": "12B-BfruovwV",
        "outputId": "082affc1-6309-4700-f144-1057941d1c97"
      },
      "outputs": [
        {
          "output_type": "stream",
          "name": "stdout",
          "text": [
            "True\n"
          ]
        }
      ],
      "source": [
        "import numpy as np\n",
        "\n",
        "def is_straight_line(points, angle_threshold=5):\n",
        "    def angle_between(v1, v2):\n",
        "        angle = np.degrees(np.arccos(np.dot(v1, v2) / (np.linalg.norm(v1) * np.linalg.norm(v2))))\n",
        "        return angle\n",
        "\n",
        "    vectors = np.diff(points, axis=0)\n",
        "    angles = [angle_between(vectors[i], vectors[i+1]) for i in range(len(vectors)-1)]\n",
        "\n",
        "    return all(abs(angle) < angle_threshold or abs(angle - 180) < angle_threshold for angle in angles)\n",
        "\n",
        "# Example usage:\n",
        "points = np.array([[0, 0], [1, 1], [2, 2], [3, 3]])\n",
        "print(is_straight_line(points))  # Should return True for a straight line\n"
      ]
    },
    {
      "cell_type": "code",
      "source": [
        "from scipy.optimize import leastsq\n",
        "\n",
        "def fit_circle(points):\n",
        "    def calc_radius(center, points):\n",
        "        return np.sqrt((points[:, 0] - center[0]) ** 2 + (points[:, 1] - center[1]) ** 2)\n",
        "\n",
        "    def calc_distance(c, points):\n",
        "        radii = calc_radius(c, points)\n",
        "        return radii - np.mean(radii)\n",
        "\n",
        "    center_estimate = np.mean(points, axis=0)\n",
        "    center, _ = leastsq(calc_distance, center_estimate, args=(points,))\n",
        "    radii = calc_radius(center, points)\n",
        "\n",
        "    return center, np.mean(radii)\n",
        "\n",
        "# Example usage:\n",
        "points = np.array([[0, 1], [1, 2], [2, 1], [1, 0]])\n",
        "center, radius = fit_circle(points)\n",
        "print(f\"Center: {center}, Radius: {radius}\")\n"
      ],
      "metadata": {
        "colab": {
          "base_uri": "https://localhost:8080/"
        },
        "id": "fsnkTO_lo0Bx",
        "outputId": "fa953c17-82ff-4ada-e658-9c28af2302d6"
      },
      "execution_count": 2,
      "outputs": [
        {
          "output_type": "stream",
          "name": "stdout",
          "text": [
            "Center: [1. 1.], Radius: 1.0\n"
          ]
        }
      ]
    },
    {
      "cell_type": "code",
      "source": [
        "from scipy.spatial import ConvexHull\n",
        "\n",
        "def complete_curve(points):\n",
        "    hull = ConvexHull(points)\n",
        "    completed_points = points[hull.vertices]\n",
        "    return completed_points\n",
        "\n",
        "# Example usage:\n",
        "points = np.array([[0, 0], [2, 0], [1, 1], [0.5, 0.5]])\n",
        "completed_points = complete_curve(points)\n",
        "print(completed_points)\n"
      ],
      "metadata": {
        "colab": {
          "base_uri": "https://localhost:8080/"
        },
        "id": "2j67DciHo3HG",
        "outputId": "26566d94-cf59-4628-e54b-249ea55dd0de"
      },
      "execution_count": 3,
      "outputs": [
        {
          "output_type": "stream",
          "name": "stdout",
          "text": [
            "[[0. 0.]\n",
            " [2. 0.]\n",
            " [1. 1.]]\n"
          ]
        }
      ]
    },
    {
      "cell_type": "code",
      "source": [
        "from scipy.spatial import ConvexHull\n",
        "\n",
        "def complete_curve(points):\n",
        "    hull = ConvexHull(points)\n",
        "    completed_points = points[hull.vertices]\n",
        "    return completed_points\n",
        "\n",
        "# Example usage:\n",
        "points = np.array([[0, 0], [2, 0], [1, 1], [0.5, 0.5]])\n",
        "completed_points = complete_curve(points)\n",
        "print(completed_points)\n"
      ],
      "metadata": {
        "colab": {
          "base_uri": "https://localhost:8080/"
        },
        "id": "tYWLj5E7o8NU",
        "outputId": "a1b5ab98-d37b-42a9-f345-162f158eaeef"
      },
      "execution_count": 4,
      "outputs": [
        {
          "output_type": "stream",
          "name": "stdout",
          "text": [
            "[[0. 0.]\n",
            " [2. 0.]\n",
            " [1. 1.]]\n"
          ]
        }
      ]
    },
    {
      "cell_type": "code",
      "source": [
        "import zipfile\n",
        "import os\n",
        "\n",
        "# Define the path to the ZIP file\n",
        "zip_path = '/content/problems (1).zip'\n",
        "\n",
        "# Extract to the same directory as the ZIP file\n",
        "extract_to = os.path.dirname(zip_path)\n",
        "\n",
        "# Extract the ZIP file\n",
        "with zipfile.ZipFile(zip_path, 'r') as zip_ref:\n",
        "    zip_ref.extractall(extract_to)\n",
        "\n",
        "# List files in the directory to confirm extraction\n",
        "extracted_files = os.listdir(extract_to)\n",
        "print(extracted_files)\n",
        "\n",
        "\n"
      ],
      "metadata": {
        "colab": {
          "base_uri": "https://localhost:8080/"
        },
        "id": "hmikU_Phqcr9",
        "outputId": "ac03a26b-6794-4e47-fe90-0b07c2ad0ee9"
      },
      "execution_count": 12,
      "outputs": [
        {
          "output_type": "stream",
          "name": "stdout",
          "text": [
            "['.config', 'drive', 'problems (1).zip', '__MACOSX', 'problems', 'sample_data']\n"
          ]
        }
      ]
    },
    {
      "cell_type": "code",
      "source": [
        "import pandas as pd\n",
        "\n",
        "def read_csv(csv_path):\n",
        "    data = pd.read_csv(csv_path, header=None)\n",
        "    paths = []\n",
        "    grouped = data.groupby(0)\n",
        "    for path_id, group in grouped:\n",
        "        path_data = group.iloc[:, 1:].values\n",
        "        paths.append(path_data)\n",
        "    return paths\n",
        "\n",
        "# List CSV files in the same directory\n",
        "csv_files = [f for f in extracted_files if f.endswith('.csv')]\n",
        "\n",
        "# Read CSV files\n",
        "all_paths = [read_csv(os.path.join(extract_to, file)) for file in csv_files]\n",
        "\n",
        "# Print paths to verify\n",
        "for paths in all_paths:\n",
        "    for path in paths:\n",
        "        print(path)\n"
      ],
      "metadata": {
        "id": "ne7tTc9VpADF"
      },
      "execution_count": 13,
      "outputs": []
    },
    {
      "cell_type": "code",
      "source": [
        "from google.colab import drive\n",
        "import zipfile\n",
        "import os\n",
        "import pandas as pd\n",
        "\n",
        "# Mount Google Drive\n",
        "drive.mount('/content/drive')\n",
        "\n",
        "# Define paths\n",
        "zip_path = '/content/problems (1).zip'\n",
        "extract_to = os.path.dirname(zip_path)\n",
        "\n",
        "# Extract ZIP file\n",
        "with zipfile.ZipFile(zip_path, 'r') as zip_ref:\n",
        "    zip_ref.extractall(extract_to)\n",
        "\n",
        "# Function to read CSV\n",
        "def read_csv(csv_path):\n",
        "    data = pd.read_csv(csv_path, header=None)\n",
        "    paths = []\n",
        "    grouped = data.groupby(0)\n",
        "    for path_id, group in grouped:\n",
        "        path_data = group.iloc[:, 1:].values\n",
        "        paths.append(path_data)\n",
        "    return paths\n",
        "\n",
        "# List CSV files and read them\n",
        "csv_files = [f for f in os.listdir(extract_to) if f.endswith('.csv')]\n",
        "all_paths = [read_csv(os.path.join(extract_to, file)) for file in csv_files]\n",
        "\n",
        "# Flatten all_paths to a single list of paths\n",
        "paths = [item for sublist in all_paths for item in sublist]\n",
        "\n",
        "# Function to process paths\n",
        "def process_paths(paths):\n",
        "    for path in paths:\n",
        "        for polyline in path:\n",
        "            # Implement your logic here\n",
        "            print(f\"Processing polyline: {polyline}\")\n",
        "\n",
        "# Example usage\n",
        "process_paths(paths)\n"
      ],
      "metadata": {
        "colab": {
          "base_uri": "https://localhost:8080/"
        },
        "id": "d8vcHNJtp_-D",
        "outputId": "937c5395-7b7a-4b89-c260-117befea5d57"
      },
      "execution_count": 16,
      "outputs": [
        {
          "output_type": "stream",
          "name": "stdout",
          "text": [
            "Drive already mounted at /content/drive; to attempt to forcibly remount, call drive.mount(\"/content/drive\", force_remount=True).\n"
          ]
        }
      ]
    },
    {
      "cell_type": "code",
      "source": [
        "!pip install svgwrite\n"
      ],
      "metadata": {
        "colab": {
          "base_uri": "https://localhost:8080/"
        },
        "id": "HsWgvRBdqCe1",
        "outputId": "bed78cfa-ca37-4074-fccf-f1ad1aa8d3e2"
      },
      "execution_count": 18,
      "outputs": [
        {
          "output_type": "stream",
          "name": "stdout",
          "text": [
            "Collecting svgwrite\n",
            "  Downloading svgwrite-1.4.3-py3-none-any.whl.metadata (8.8 kB)\n",
            "Downloading svgwrite-1.4.3-py3-none-any.whl (67 kB)\n",
            "\u001b[?25l   \u001b[90m━━━━━━━━━━━━━━━━━━━━━━━━━━━━━━━━━━━━━━━━\u001b[0m \u001b[32m0.0/67.1 kB\u001b[0m \u001b[31m?\u001b[0m eta \u001b[36m-:--:--\u001b[0m\r\u001b[2K   \u001b[91m━━━━━━━━━━━━━━━━━━━━━━━━━━━━━━━━━━━━\u001b[0m\u001b[91m╸\u001b[0m\u001b[90m━━━\u001b[0m \u001b[32m61.4/67.1 kB\u001b[0m \u001b[31m2.3 MB/s\u001b[0m eta \u001b[36m0:00:01\u001b[0m\r\u001b[2K   \u001b[90m━━━━━━━━━━━━━━━━━━━━━━━━━━━━━━━━━━━━━━━━\u001b[0m \u001b[32m67.1/67.1 kB\u001b[0m \u001b[31m1.6 MB/s\u001b[0m eta \u001b[36m0:00:00\u001b[0m\n",
            "\u001b[?25hInstalling collected packages: svgwrite\n",
            "Successfully installed svgwrite-1.4.3\n"
          ]
        }
      ]
    },
    {
      "cell_type": "code",
      "source": [
        "# Install svgwrite\n",
        "!pip install svgwrite\n",
        "\n",
        "import svgwrite\n",
        "\n",
        "def polylines2svg(paths, svg_path):\n",
        "    dwg = svgwrite.Drawing(svg_path, profile='tiny')\n",
        "\n",
        "    for path in paths:\n",
        "        for polyline in path:\n",
        "            points = [(point[0], point[1]) for point in polyline]\n",
        "            dwg.add(dwg.polyline(points, fill='none', stroke='black', stroke_width=1))\n",
        "\n",
        "    dwg.save()\n",
        "\n",
        "# Example usage\n",
        "output_svg_path = '/content/drive/My Drive/output.svg'\n",
        "polylines2svg(paths, output_svg_path)\n"
      ],
      "metadata": {
        "colab": {
          "base_uri": "https://localhost:8080/"
        },
        "id": "i-cAQS5UpCv-",
        "outputId": "bfa0d45f-f6c0-4410-c71f-2eb16c6ea569"
      },
      "execution_count": 19,
      "outputs": [
        {
          "output_type": "stream",
          "name": "stdout",
          "text": [
            "Requirement already satisfied: svgwrite in /usr/local/lib/python3.10/dist-packages (1.4.3)\n"
          ]
        }
      ]
    }
  ]
}